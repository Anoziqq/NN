{
  "cells": [
    {
      "cell_type": "markdown",
      "metadata": {
        "id": "view-in-github",
        "colab_type": "text"
      },
      "source": [
        "<a href=\"https://colab.research.google.com/github/Anoziqq/NN/blob/main/Lab5/Lab5.ipynb\" target=\"_parent\"><img src=\"https://colab.research.google.com/assets/colab-badge.svg\" alt=\"Open In Colab\"/></a>"
      ]
    },
    {
      "cell_type": "markdown",
      "metadata": {
        "id": "2ZaJ8mz21gMC"
      },
      "source": [
        "#Лабораторна робота 5\n",
        "#З дисципліни \"Нейронні мережі\"\n",
        "##Виконав студент:\n",
        "###групи АнД-31\n",
        "###Лаврій Руслан"
      ]
    },
    {
      "cell_type": "markdown",
      "metadata": {
        "id": "YrwKvGwZ1gdA"
      },
      "source": [
        "## Завдання\n",
        "## 1. На основі документу вирішити завдання класифікації зображень їжі для 3 класів з набору даних food101\n",
        "## 2. Індекси класів визначити індивідуально за залежностями: i1=n-1,i2=n+29,i3=n+59 (де і1,і2,і3 - індекс класу (починаючи з 0) у відсортованому за алфавітом наборі даних, n - номер за списком групи.\n",
        "## i1=5, i2=35, i3=65\n"
      ]
    },
    {
      "cell_type": "code",
      "execution_count": 3,
      "metadata": {
        "id": "7r4h3u_l1zTZ"
      },
      "outputs": [],
      "source": [
        "import tarfile\n",
        "import os\n",
        "import shutil\n",
        "import pathlib\n",
        "import numpy as np\n",
        "from tensorflow.keras.preprocessing.image import ImageDataGenerator\n",
        "import tensorflow as tf\n",
        "from tensorflow.keras.models import Sequential\n",
        "from tensorflow.keras.layers import Conv2D, MaxPool2D, Flatten, Dense\n",
        "import matplotlib.pyplot as plt"
      ]
    },
    {
      "cell_type": "code",
      "source": [
        "!wget http://data.vision.ee.ethz.ch/cvl/food-101.tar.gz\n",
        "file = tarfile.open(\"food-101.tar.gz\")\n",
        "file.extractall()\n",
        "file.close()\n",
        "!ls food-101"
      ],
      "metadata": {
        "colab": {
          "base_uri": "https://localhost:8080/"
        },
        "id": "yvuGLWmi4ya1",
        "outputId": "097877c7-f618-4abd-d83c-66d6f8b33744"
      },
      "execution_count": 4,
      "outputs": [
        {
          "output_type": "stream",
          "name": "stdout",
          "text": [
            "--2022-06-06 12:00:41--  http://data.vision.ee.ethz.ch/cvl/food-101.tar.gz\n",
            "Resolving data.vision.ee.ethz.ch (data.vision.ee.ethz.ch)... 129.132.52.178, 2001:67c:10ec:36c2::178\n",
            "Connecting to data.vision.ee.ethz.ch (data.vision.ee.ethz.ch)|129.132.52.178|:80... connected.\n",
            "HTTP request sent, awaiting response... 302 Found\n",
            "Location: https://data.vision.ee.ethz.ch/cvl/food-101.tar.gz [following]\n",
            "--2022-06-06 12:00:41--  https://data.vision.ee.ethz.ch/cvl/food-101.tar.gz\n",
            "Connecting to data.vision.ee.ethz.ch (data.vision.ee.ethz.ch)|129.132.52.178|:443... connected.\n",
            "HTTP request sent, awaiting response... 200 OK\n",
            "Length: 4996278331 (4.7G) [application/x-gzip]\n",
            "Saving to: ‘food-101.tar.gz’\n",
            "\n",
            "food-101.tar.gz     100%[===================>]   4.65G  29.4MB/s    in 2m 46s  \n",
            "\n",
            "2022-06-06 12:03:27 (28.7 MB/s) - ‘food-101.tar.gz’ saved [4996278331/4996278331]\n",
            "\n",
            "images\tlicense_agreement.txt  meta  README.txt\n"
          ]
        }
      ]
    },
    {
      "cell_type": "markdown",
      "metadata": {
        "id": "ldCp2MGM1hGo"
      },
      "source": [
        "## Знаходження класів"
      ]
    },
    {
      "cell_type": "code",
      "execution_count": 6,
      "metadata": {
        "colab": {
          "base_uri": "https://localhost:8080/"
        },
        "id": "LzJdoGWg1XZQ",
        "outputId": "5b786ba7-052b-4f3c-dee1-14a541a44a29"
      },
      "outputs": [
        {
          "output_type": "stream",
          "name": "stdout",
          "text": [
            "['beet_salad', 'escargots', 'mussels']\n"
          ]
        }
      ],
      "source": [
        "file = open('food-101/meta/classes.txt')\n",
        "line_numbers = [5, 35, 65] \n",
        "lines = []\n",
        "for i, line in enumerate(file):\n",
        "  if i in line_numbers:\n",
        "    lines.append(line.strip())\n",
        "print(lines)"
      ]
    },
    {
      "cell_type": "markdown",
      "source": [
        "## Створення папок і копіювання фото"
      ],
      "metadata": {
        "id": "ApMFfks3A3f4"
      }
    },
    {
      "cell_type": "code",
      "source": [
        "!mkdir food-101/test\n",
        "!mkdir food-101/train\n",
        "!mkdir food-101/test/beet_salad\n",
        "!mkdir food-101/test/escargots\n",
        "!mkdir food-101/test/mussels\n",
        "!mkdir food-101/train/beet_salad\n",
        "!mkdir food-101/train/escargots\n",
        "!mkdir food-101/train/mussels\n",
        "\n",
        "file = open('food-101/meta/train.txt')\n",
        "for i in file:\n",
        "  dir = i.split(\"/\")\n",
        "  if (dir[0] == 'beet_salad'):\n",
        "    shutil.copy('food-101/images/'+i.replace('\\n','') +'.jpg', 'food-101/train/beet_salad')\n",
        "  elif(dir[0] == 'escargots'):\n",
        "    shutil.copy('food-101/images/'+i.replace('\\n','') +'.jpg', 'food-101/train/escargots')\n",
        "  elif(dir[0] == 'mussels'):\n",
        "    shutil.copy('food-101/images/'+i.replace('\\n','') +'.jpg', 'food-101/train/mussels')\n",
        "\n",
        "file = open('food-101/meta/test.txt')\n",
        "for i in file:\n",
        "  dir = i.split(\"/\")\n",
        "  if (dir[0] == 'beet_salad'):\n",
        "    shutil.copy('food-101/images/'+i.replace('\\n','') +'.jpg', 'food-101/test/beet_salad')\n",
        "  elif(dir[0] == 'escargots'):\n",
        "    shutil.copy('food-101/images/'+i.replace('\\n','') +'.jpg', 'food-101/test/escargots')\n",
        "  elif(dir[0] == 'mussels'):\n",
        "    shutil.copy('food-101/images/'+i.replace('\\n','') +'.jpg', 'food-101/test/mussels')\n",
        "!ls food-101/test\n",
        "test_dir = 'food-101/test'\n",
        "train_dir = 'food-101/train'\n",
        "data_dir = pathlib.Path(train_dir)\n",
        "class_names = np.array(sorted([item.name for item in data_dir.glob('*')]))\n",
        "print(class_names)"
      ],
      "metadata": {
        "colab": {
          "base_uri": "https://localhost:8080/"
        },
        "id": "K8B4IdmRAisY",
        "outputId": "74b2ee10-521a-4cdd-b65f-3090741a8423"
      },
      "execution_count": 8,
      "outputs": [
        {
          "output_type": "stream",
          "name": "stdout",
          "text": [
            "mkdir: cannot create directory ‘food-101/test’: File exists\n",
            "mkdir: cannot create directory ‘food-101/train’: File exists\n",
            "mkdir: cannot create directory ‘food-101/test/beet_salad’: File exists\n",
            "mkdir: cannot create directory ‘food-101/test/escargots’: File exists\n",
            "mkdir: cannot create directory ‘food-101/test/mussels’: File exists\n",
            "mkdir: cannot create directory ‘food-101/train/beet_salad’: File exists\n",
            "mkdir: cannot create directory ‘food-101/train/escargots’: File exists\n",
            "mkdir: cannot create directory ‘food-101/train/mussels’: File exists\n",
            "beet_salad  escargots  mussels\n",
            "['beet_salad' 'escargots' 'mussels']\n"
          ]
        }
      ]
    },
    {
      "cell_type": "markdown",
      "source": [
        "## Перетворення зображень та покращення\n",
        "\n"
      ],
      "metadata": {
        "id": "vSs8Gu6ZBCjX"
      }
    },
    {
      "cell_type": "code",
      "source": [
        "train_datagen = ImageDataGenerator(rescale=1/255.)\n",
        "test_datagen = ImageDataGenerator(rescale=1/255.)\n",
        "\n",
        "train_data = train_datagen.flow_from_directory(train_dir,\n",
        "                                               target_size=(224, 224),\n",
        "                                               batch_size=32,\n",
        "                                               class_mode='categorical')\n",
        "\n",
        "test_data = train_datagen.flow_from_directory(test_dir,\n",
        "                                              target_size=(224, 224),\n",
        "                                              batch_size=32,\n",
        "                                              class_mode='categorical')\n",
        "\n",
        "train_datagen_augmented = ImageDataGenerator(rescale=1/255.,\n",
        "                                             rotation_range=20,\n",
        "                                             width_shift_range=0.2,\n",
        "                                             height_shift_range=0.2,\n",
        "                                             zoom_range=0.2,\n",
        "                                             horizontal_flip=True)\n",
        "\n",
        "train_data_augmented = train_datagen_augmented.flow_from_directory(train_dir,\n",
        "                                                                  target_size=(224, 224),\n",
        "                                                                  batch_size=32,\n",
        "                                                                  class_mode='categorical')\n"
      ],
      "metadata": {
        "colab": {
          "base_uri": "https://localhost:8080/"
        },
        "id": "kZ7Z8MOJBri4",
        "outputId": "09765f32-2ae7-4ec3-9fea-aef3ac257a9c"
      },
      "execution_count": 9,
      "outputs": [
        {
          "output_type": "stream",
          "name": "stdout",
          "text": [
            "Found 2250 images belonging to 3 classes.\n",
            "Found 750 images belonging to 3 classes.\n",
            "Found 2250 images belonging to 3 classes.\n"
          ]
        }
      ]
    },
    {
      "cell_type": "markdown",
      "metadata": {
        "id": "PD4ml8-Z1hbp"
      },
      "source": [
        "\n",
        "## Навчання мережі"
      ]
    },
    {
      "cell_type": "code",
      "source": [
        "model = Sequential([\n",
        "  Conv2D(32, 3, activation='relu', input_shape=(224, 224, 3)),\n",
        "  MaxPool2D(),\n",
        "  Dense(128, activation='relu'),\n",
        "  Conv2D(64, 3, activation='relu'),\n",
        "  MaxPool2D(),\n",
        "  Flatten(),\n",
        "  Dense(3, activation='softmax')\n",
        "])\n",
        "\n",
        "model.compile(loss=\"categorical_crossentropy\",\n",
        "              optimizer=tf.keras.optimizers.Adam(),\n",
        "              metrics=[\"accuracy\"])\n",
        "\n",
        "history_model = model.fit(train_data_augmented,\n",
        "                          epochs=60,\n",
        "                          steps_per_epoch=len(train_data_augmented),\n",
        "                          validation_data=test_data,\n",
        "                          validation_steps=len(test_data))\n",
        "model.save('model.hdf5')"
      ],
      "metadata": {
        "colab": {
          "base_uri": "https://localhost:8080/"
        },
        "id": "Vl7gIz1oCDT_",
        "outputId": "a0b4dedb-b510-4a5b-cb14-2044c63cc448"
      },
      "execution_count": 10,
      "outputs": [
        {
          "output_type": "stream",
          "name": "stdout",
          "text": [
            "Epoch 1/60\n",
            "71/71 [==============================] - 50s 538ms/step - loss: 1.1151 - accuracy: 0.4480 - val_loss: 0.9543 - val_accuracy: 0.4627\n",
            "Epoch 2/60\n",
            "71/71 [==============================] - 35s 490ms/step - loss: 0.9235 - accuracy: 0.5964 - val_loss: 0.8198 - val_accuracy: 0.7000\n",
            "Epoch 3/60\n",
            "71/71 [==============================] - 35s 498ms/step - loss: 0.8793 - accuracy: 0.6200 - val_loss: 0.7816 - val_accuracy: 0.7040\n",
            "Epoch 4/60\n",
            "71/71 [==============================] - 35s 491ms/step - loss: 0.8442 - accuracy: 0.6436 - val_loss: 0.7879 - val_accuracy: 0.7080\n",
            "Epoch 5/60\n",
            "71/71 [==============================] - 35s 494ms/step - loss: 0.8491 - accuracy: 0.6489 - val_loss: 0.7729 - val_accuracy: 0.7000\n",
            "Epoch 6/60\n",
            "71/71 [==============================] - 35s 492ms/step - loss: 0.8379 - accuracy: 0.6622 - val_loss: 0.7920 - val_accuracy: 0.6800\n",
            "Epoch 7/60\n",
            "71/71 [==============================] - 35s 491ms/step - loss: 0.8246 - accuracy: 0.6649 - val_loss: 0.6897 - val_accuracy: 0.7333\n",
            "Epoch 8/60\n",
            "71/71 [==============================] - 35s 490ms/step - loss: 0.8350 - accuracy: 0.6462 - val_loss: 0.7606 - val_accuracy: 0.6827\n",
            "Epoch 9/60\n",
            "71/71 [==============================] - 36s 502ms/step - loss: 0.8184 - accuracy: 0.6618 - val_loss: 0.6951 - val_accuracy: 0.7373\n",
            "Epoch 10/60\n",
            "71/71 [==============================] - 35s 489ms/step - loss: 0.8001 - accuracy: 0.6796 - val_loss: 0.6752 - val_accuracy: 0.7213\n",
            "Epoch 11/60\n",
            "71/71 [==============================] - 35s 490ms/step - loss: 0.7594 - accuracy: 0.6853 - val_loss: 0.6860 - val_accuracy: 0.7227\n",
            "Epoch 12/60\n",
            "71/71 [==============================] - 34s 483ms/step - loss: 0.7495 - accuracy: 0.6964 - val_loss: 0.6218 - val_accuracy: 0.7627\n",
            "Epoch 13/60\n",
            "71/71 [==============================] - 34s 482ms/step - loss: 0.7384 - accuracy: 0.7004 - val_loss: 0.6264 - val_accuracy: 0.7600\n",
            "Epoch 14/60\n",
            "71/71 [==============================] - 34s 483ms/step - loss: 0.7218 - accuracy: 0.7111 - val_loss: 0.7795 - val_accuracy: 0.6853\n",
            "Epoch 15/60\n",
            "71/71 [==============================] - 34s 482ms/step - loss: 0.7705 - accuracy: 0.6804 - val_loss: 0.6477 - val_accuracy: 0.7400\n",
            "Epoch 16/60\n",
            "71/71 [==============================] - 35s 492ms/step - loss: 0.7340 - accuracy: 0.7093 - val_loss: 0.6168 - val_accuracy: 0.7773\n",
            "Epoch 17/60\n",
            "71/71 [==============================] - 35s 496ms/step - loss: 0.7330 - accuracy: 0.7036 - val_loss: 0.6365 - val_accuracy: 0.7520\n",
            "Epoch 18/60\n",
            "71/71 [==============================] - 35s 495ms/step - loss: 0.7232 - accuracy: 0.7124 - val_loss: 0.5851 - val_accuracy: 0.7720\n",
            "Epoch 19/60\n",
            "71/71 [==============================] - 35s 489ms/step - loss: 0.6897 - accuracy: 0.7249 - val_loss: 0.7151 - val_accuracy: 0.7173\n",
            "Epoch 20/60\n",
            "71/71 [==============================] - 34s 483ms/step - loss: 0.6859 - accuracy: 0.7262 - val_loss: 0.6065 - val_accuracy: 0.7720\n",
            "Epoch 21/60\n",
            "71/71 [==============================] - 34s 481ms/step - loss: 0.6955 - accuracy: 0.7129 - val_loss: 0.6037 - val_accuracy: 0.7640\n",
            "Epoch 22/60\n",
            "71/71 [==============================] - 34s 482ms/step - loss: 0.7059 - accuracy: 0.7107 - val_loss: 0.6332 - val_accuracy: 0.7547\n",
            "Epoch 23/60\n",
            "71/71 [==============================] - 34s 482ms/step - loss: 0.6776 - accuracy: 0.7249 - val_loss: 0.7076 - val_accuracy: 0.7440\n",
            "Epoch 24/60\n",
            "71/71 [==============================] - 34s 481ms/step - loss: 0.6598 - accuracy: 0.7302 - val_loss: 0.6717 - val_accuracy: 0.7533\n",
            "Epoch 25/60\n",
            "71/71 [==============================] - 34s 482ms/step - loss: 0.6598 - accuracy: 0.7364 - val_loss: 0.5645 - val_accuracy: 0.7907\n",
            "Epoch 26/60\n",
            "71/71 [==============================] - 35s 496ms/step - loss: 0.6413 - accuracy: 0.7373 - val_loss: 0.5754 - val_accuracy: 0.7693\n",
            "Epoch 27/60\n",
            "71/71 [==============================] - 34s 484ms/step - loss: 0.6405 - accuracy: 0.7480 - val_loss: 0.5902 - val_accuracy: 0.7813\n",
            "Epoch 28/60\n",
            "71/71 [==============================] - 35s 489ms/step - loss: 0.6528 - accuracy: 0.7280 - val_loss: 0.5743 - val_accuracy: 0.7613\n",
            "Epoch 29/60\n",
            "71/71 [==============================] - 34s 483ms/step - loss: 0.6521 - accuracy: 0.7360 - val_loss: 0.5106 - val_accuracy: 0.8053\n",
            "Epoch 30/60\n",
            "71/71 [==============================] - 34s 482ms/step - loss: 0.6093 - accuracy: 0.7618 - val_loss: 0.6467 - val_accuracy: 0.7653\n",
            "Epoch 31/60\n",
            "71/71 [==============================] - 34s 482ms/step - loss: 0.6104 - accuracy: 0.7502 - val_loss: 0.5100 - val_accuracy: 0.8067\n",
            "Epoch 32/60\n",
            "71/71 [==============================] - 34s 481ms/step - loss: 0.6028 - accuracy: 0.7516 - val_loss: 0.4832 - val_accuracy: 0.8147\n",
            "Epoch 33/60\n",
            "71/71 [==============================] - 34s 483ms/step - loss: 0.5809 - accuracy: 0.7676 - val_loss: 0.5543 - val_accuracy: 0.7933\n",
            "Epoch 34/60\n",
            "71/71 [==============================] - 35s 496ms/step - loss: 0.6046 - accuracy: 0.7613 - val_loss: 0.5531 - val_accuracy: 0.8000\n",
            "Epoch 35/60\n",
            "71/71 [==============================] - 34s 483ms/step - loss: 0.5938 - accuracy: 0.7609 - val_loss: 0.5073 - val_accuracy: 0.8067\n",
            "Epoch 36/60\n",
            "71/71 [==============================] - 34s 482ms/step - loss: 0.5863 - accuracy: 0.7702 - val_loss: 0.4995 - val_accuracy: 0.8120\n",
            "Epoch 37/60\n",
            "71/71 [==============================] - 34s 483ms/step - loss: 0.5912 - accuracy: 0.7729 - val_loss: 0.4703 - val_accuracy: 0.8173\n",
            "Epoch 38/60\n",
            "71/71 [==============================] - 34s 481ms/step - loss: 0.5629 - accuracy: 0.7791 - val_loss: 0.4670 - val_accuracy: 0.8053\n",
            "Epoch 39/60\n",
            "71/71 [==============================] - 34s 483ms/step - loss: 0.5530 - accuracy: 0.7831 - val_loss: 0.4965 - val_accuracy: 0.8160\n",
            "Epoch 40/60\n",
            "71/71 [==============================] - 34s 479ms/step - loss: 0.5622 - accuracy: 0.7742 - val_loss: 0.4852 - val_accuracy: 0.8280\n",
            "Epoch 41/60\n",
            "71/71 [==============================] - 34s 482ms/step - loss: 0.5669 - accuracy: 0.7764 - val_loss: 0.5064 - val_accuracy: 0.8187\n",
            "Epoch 42/60\n",
            "71/71 [==============================] - 34s 481ms/step - loss: 0.5483 - accuracy: 0.7858 - val_loss: 0.4737 - val_accuracy: 0.8387\n",
            "Epoch 43/60\n",
            "71/71 [==============================] - 35s 494ms/step - loss: 0.5477 - accuracy: 0.7822 - val_loss: 0.5206 - val_accuracy: 0.8040\n",
            "Epoch 44/60\n",
            "71/71 [==============================] - 34s 482ms/step - loss: 0.5518 - accuracy: 0.7871 - val_loss: 0.4835 - val_accuracy: 0.8240\n",
            "Epoch 45/60\n",
            "71/71 [==============================] - 34s 481ms/step - loss: 0.5700 - accuracy: 0.7813 - val_loss: 0.4778 - val_accuracy: 0.8107\n",
            "Epoch 46/60\n",
            "71/71 [==============================] - 34s 481ms/step - loss: 0.5367 - accuracy: 0.7907 - val_loss: 0.4527 - val_accuracy: 0.8200\n",
            "Epoch 47/60\n",
            "71/71 [==============================] - 34s 480ms/step - loss: 0.5562 - accuracy: 0.7889 - val_loss: 0.4938 - val_accuracy: 0.8213\n",
            "Epoch 48/60\n",
            "71/71 [==============================] - 34s 481ms/step - loss: 0.5300 - accuracy: 0.7893 - val_loss: 0.4995 - val_accuracy: 0.8053\n",
            "Epoch 49/60\n",
            "71/71 [==============================] - 34s 480ms/step - loss: 0.5374 - accuracy: 0.7871 - val_loss: 0.4736 - val_accuracy: 0.8160\n",
            "Epoch 50/60\n",
            "71/71 [==============================] - 34s 482ms/step - loss: 0.5386 - accuracy: 0.7871 - val_loss: 0.5024 - val_accuracy: 0.8173\n",
            "Epoch 51/60\n",
            "71/71 [==============================] - 34s 482ms/step - loss: 0.5276 - accuracy: 0.7898 - val_loss: 0.4762 - val_accuracy: 0.8093\n",
            "Epoch 52/60\n",
            "71/71 [==============================] - 35s 495ms/step - loss: 0.5213 - accuracy: 0.7982 - val_loss: 0.4620 - val_accuracy: 0.8187\n",
            "Epoch 53/60\n",
            "71/71 [==============================] - 34s 484ms/step - loss: 0.5074 - accuracy: 0.8053 - val_loss: 0.4939 - val_accuracy: 0.8067\n",
            "Epoch 54/60\n",
            "71/71 [==============================] - 34s 484ms/step - loss: 0.5146 - accuracy: 0.8009 - val_loss: 0.4914 - val_accuracy: 0.7960\n",
            "Epoch 55/60\n",
            "71/71 [==============================] - 34s 482ms/step - loss: 0.5232 - accuracy: 0.7920 - val_loss: 0.4351 - val_accuracy: 0.8267\n",
            "Epoch 56/60\n",
            "71/71 [==============================] - 34s 483ms/step - loss: 0.5156 - accuracy: 0.7960 - val_loss: 0.4225 - val_accuracy: 0.8293\n",
            "Epoch 57/60\n",
            "71/71 [==============================] - 34s 484ms/step - loss: 0.4981 - accuracy: 0.8093 - val_loss: 0.4761 - val_accuracy: 0.8147\n",
            "Epoch 58/60\n",
            "71/71 [==============================] - 34s 483ms/step - loss: 0.5016 - accuracy: 0.8071 - val_loss: 0.4349 - val_accuracy: 0.8320\n",
            "Epoch 59/60\n",
            "71/71 [==============================] - 34s 482ms/step - loss: 0.5286 - accuracy: 0.7951 - val_loss: 0.4394 - val_accuracy: 0.8280\n",
            "Epoch 60/60\n",
            "71/71 [==============================] - 35s 493ms/step - loss: 0.5282 - accuracy: 0.8000 - val_loss: 0.4133 - val_accuracy: 0.8373\n"
          ]
        }
      ]
    },
    {
      "cell_type": "markdown",
      "source": [
        "## Графіки"
      ],
      "metadata": {
        "id": "r2kLnJ3SE3zl"
      }
    },
    {
      "cell_type": "code",
      "source": [
        "def plot_accuracy(history,title):\n",
        "    plt.title(title)\n",
        "    plt.plot(history.history['accuracy'])\n",
        "    plt.plot(history.history['val_accuracy'])\n",
        "    plt.ylabel('accuracy')\n",
        "    plt.xlabel('epoch')\n",
        "    plt.legend(['train_accuracy', 'validation_accuracy'], loc='best')\n",
        "    plt.show()\n",
        "def plot_loss(history,title):\n",
        "    plt.title(title)\n",
        "    plt.plot(history.history['loss'])\n",
        "    plt.plot(history.history['val_loss'])\n",
        "    plt.ylabel('loss')\n",
        "    plt.xlabel('epoch')\n",
        "    plt.legend(['train_loss', 'validation_loss'], loc='best')\n",
        "    plt.show()\n",
        "plot_accuracy(history_model,'Accuracy')\n",
        "plot_loss(history_model,'Loss')"
      ],
      "metadata": {
        "colab": {
          "base_uri": "https://localhost:8080/",
          "height": 573
        },
        "id": "LuBf7aNnCZHv",
        "outputId": "e264caa9-ce00-4e1a-ea95-6d0a32321956"
      },
      "execution_count": 11,
      "outputs": [
        {
          "output_type": "display_data",
          "data": {
            "text/plain": [
              "<Figure size 432x288 with 1 Axes>"
            ],
            "image/png": "[encoded data removed]"
          },
          "metadata": {
            "needs_background": "light"
          }
        },
        {
          "output_type": "display_data",
          "data": {
            "text/plain": [
              "<Figure size 432x288 with 1 Axes>"
            ],
            "image/png": "[encoded data removed]"
          },
          "metadata": {
            "needs_background": "light"
          }
        }
      ]
    }
  ],
  "metadata": {
    "accelerator": "GPU",
    "colab": {
      "name": "Lab5.ipynb",
      "provenance": [],
      "collapsed_sections": [
        "YrwKvGwZ1gdA",
        "ldCp2MGM1hGo",
        "ApMFfks3A3f4",
        "vSs8Gu6ZBCjX",
        "PD4ml8-Z1hbp",
        "r2kLnJ3SE3zl"
      ],
      "authorship_tag": "ABX9TyOJEQtspFrF4Idh0+a86/ib",
      "include_colab_link": true
    },
    "kernelspec": {
      "display_name": "Python 3",
      "name": "python3"
    },
    "language_info": {
      "name": "python"
    }
  },
  "nbformat": 4,
  "nbformat_minor": 0
}