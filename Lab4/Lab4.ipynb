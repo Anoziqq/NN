{
  "nbformat": 4,
  "nbformat_minor": 0,
  "metadata": {
    "colab": {
      "name": "Lab4.ipynb",
      "provenance": [],
      "collapsed_sections": [
        "Dx3m3QfMs55z",
        "jEiUd01Ds78i",
        "jOKuxu5Us8So",
        "AemwseBZwkeO",
        "6MRiDewKxCvt",
        "qDWonFhdw2CN"
      ],
      "authorship_tag": "ABX9TyM+04lhhpkISCXvhiULL2o2",
      "include_colab_link": true
    },
    "kernelspec": {
      "name": "python3",
      "display_name": "Python 3"
    },
    "language_info": {
      "name": "python"
    },
    "accelerator": "GPU"
  },
  "cells": [
    {
      "cell_type": "markdown",
      "metadata": {
        "id": "view-in-github",
        "colab_type": "text"
      },
      "source": [
        "<a href=\"https://colab.research.google.com/github/Anoziqq/NN/blob/main/Lab4/Lab4.ipynb\" target=\"_parent\"><img src=\"https://colab.research.google.com/assets/colab-badge.svg\" alt=\"Open In Colab\"/></a>"
      ]
    },
    {
      "cell_type": "markdown",
      "source": [
        "#Лабораторна робота 4\n",
        "#З дисципліни \"Нейронні мережі\"\n",
        "##Виконав студент:\n",
        "###групи АнД-31\n",
        "###Лаврій Руслан"
      ],
      "metadata": {
        "id": "Dx3m3QfMs55z"
      }
    },
    {
      "cell_type": "markdown",
      "source": [
        "## Завдання\n",
        "## 1. На основі документу вирішити завдання класифікації для набору даних Fashion MNIST.\n",
        "## 2. Для моделювання використати 3 класи індекси яких взяти відповідно до номеру у списку групи.\n",
        "## 3. Моделювання провести із використанням нейронної мережі (Flatten & Dense layers).\n",
        "## 4. Здійснити вибір оптимального кроку градієнтного алгоритму (learning_rate), а також побудову Confusion Matrix.\n"
      ],
      "metadata": {
        "id": "jEiUd01Ds78i"
      }
    },
    {
      "cell_type": "code",
      "source": [
        "import tensorflow as tf\n",
        "import numpy as np\n",
        "import matplotlib.pyplot as plt\n",
        "from tensorflow.keras.datasets import fashion_mnist\n",
        "(train_data, train_labels), (test_data, test_labels) = fashion_mnist.load_data()"
      ],
      "metadata": {
        "id": "ai4dxf6NuC93"
      },
      "execution_count": 14,
      "outputs": []
    },
    {
      "cell_type": "markdown",
      "source": [
        "## Виділення класів і нормалізація даних"
      ],
      "metadata": {
        "id": "jOKuxu5Us8So"
      }
    },
    {
      "cell_type": "code",
      "execution_count": 11,
      "metadata": {
        "colab": {
          "base_uri": "https://localhost:8080/"
        },
        "id": "g9DMEqYksf_R",
        "outputId": "9d3f19d3-df8b-4994-9406-cc9d7182f30d"
      },
      "outputs": [
        {
          "output_type": "stream",
          "name": "stdout",
          "text": [
            "14112000\n",
            "[2. 2. 5. ... 8. 5. 5.]\n",
            "2352000\n",
            "3000\n"
          ]
        }
      ],
      "source": [
        "train_data1 = []\n",
        "train_labels1 = []\n",
        "for data in range(len(train_data)):\n",
        "  if(train_labels[data] == 5 or train_labels[data] == 8 or train_labels[data] == 2):\n",
        "    train_data1 = np.append(train_data1, train_data[data])\n",
        "    train_labels1 = np.append(train_labels1, train_labels[data])\n",
        "print(len(train_data1))\n",
        "print(train_labels1)\n",
        "\n",
        "test_data1 = []\n",
        "test_labels1 = []\n",
        "for data in range(len(test_data)):\n",
        "  if(test_labels[data] == 5 or test_labels[data] == 8 or test_labels[data] == 2):\n",
        "    test_data1 = np.append(test_data1, test_data[data])\n",
        "    test_labels1 = np.append(test_labels1, test_labels[data])\n",
        "print(len(test_data1))\n",
        "print(len(test_labels1))\n",
        "\n",
        "train_data1 = np.reshape(train_data1, (len(train_labels1), 28, 28))\n",
        "test_data1 = np.reshape(test_data1, (len(test_labels1), 28, 28))\n",
        "\n",
        "train_data1 = train_data1 / 255\n",
        "test_data1 = test_data1 / 255"
      ]
    },
    {
      "cell_type": "markdown",
      "source": [
        "## Навчання нейромережі"
      ],
      "metadata": {
        "id": "AemwseBZwkeO"
      }
    },
    {
      "cell_type": "code",
      "source": [
        "tf.random.set_seed(42)\n",
        "model = tf.keras.Sequential([\n",
        "  tf.keras.layers.Flatten(input_shape=(28, 28)),\n",
        "  tf.keras.layers.Dense(4, activation=\"relu\"),\n",
        "  tf.keras.layers.Dense(4, activation=\"relu\"),\n",
        "  tf.keras.layers.Dense(10, activation=\"softmax\")\n",
        "])\n",
        "model.compile(loss=tf.keras.losses.SparseCategoricalCrossentropy(),\n",
        "                 optimizer=tf.keras.optimizers.Adam(),\n",
        "                 metrics=[\"accuracy\"])\n",
        "lr_scheduler = tf.keras.callbacks.LearningRateScheduler(lambda epoch: 1e-3 * 10**(epoch/200))\n",
        "fit_data = model.fit(train_data1, train_labels1, epochs=40)"
      ],
      "metadata": {
        "colab": {
          "base_uri": "https://localhost:8080/"
        },
        "id": "zwJGxW60wyj2",
        "outputId": "4933e3bc-6390-4e89-abe8-c6a0c8140b24"
      },
      "execution_count": 12,
      "outputs": [
        {
          "output_type": "stream",
          "name": "stdout",
          "text": [
            "Epoch 1/40\n",
            "563/563 [==============================] - 4s 2ms/step - loss: 0.5312 - accuracy: 0.8410\n",
            "Epoch 2/40\n",
            "563/563 [==============================] - 1s 2ms/step - loss: 0.0789 - accuracy: 0.9813\n",
            "Epoch 3/40\n",
            "563/563 [==============================] - 1s 2ms/step - loss: 0.0571 - accuracy: 0.9851\n",
            "Epoch 4/40\n",
            "563/563 [==============================] - 1s 2ms/step - loss: 0.0492 - accuracy: 0.9865\n",
            "Epoch 5/40\n",
            "563/563 [==============================] - 1s 2ms/step - loss: 0.0433 - accuracy: 0.9873\n",
            "Epoch 6/40\n",
            "563/563 [==============================] - 1s 2ms/step - loss: 0.0373 - accuracy: 0.9888\n",
            "Epoch 7/40\n",
            "563/563 [==============================] - 1s 2ms/step - loss: 0.0352 - accuracy: 0.9887\n",
            "Epoch 8/40\n",
            "563/563 [==============================] - 1s 2ms/step - loss: 0.0315 - accuracy: 0.9894\n",
            "Epoch 9/40\n",
            "563/563 [==============================] - 1s 2ms/step - loss: 0.0300 - accuracy: 0.9894\n",
            "Epoch 10/40\n",
            "563/563 [==============================] - 1s 2ms/step - loss: 0.0274 - accuracy: 0.9910\n",
            "Epoch 11/40\n",
            "563/563 [==============================] - 1s 2ms/step - loss: 0.0254 - accuracy: 0.9905\n",
            "Epoch 12/40\n",
            "563/563 [==============================] - 1s 2ms/step - loss: 0.0246 - accuracy: 0.9914\n",
            "Epoch 13/40\n",
            "563/563 [==============================] - 1s 2ms/step - loss: 0.0229 - accuracy: 0.9915\n",
            "Epoch 14/40\n",
            "563/563 [==============================] - 1s 2ms/step - loss: 0.0211 - accuracy: 0.9925\n",
            "Epoch 15/40\n",
            "563/563 [==============================] - 1s 2ms/step - loss: 0.0200 - accuracy: 0.9922\n",
            "Epoch 16/40\n",
            "563/563 [==============================] - 1s 2ms/step - loss: 0.0201 - accuracy: 0.9924\n",
            "Epoch 17/40\n",
            "563/563 [==============================] - 1s 2ms/step - loss: 0.0169 - accuracy: 0.9946\n",
            "Epoch 18/40\n",
            "563/563 [==============================] - 1s 2ms/step - loss: 0.0166 - accuracy: 0.9943\n",
            "Epoch 19/40\n",
            "563/563 [==============================] - 1s 2ms/step - loss: 0.0162 - accuracy: 0.9937\n",
            "Epoch 20/40\n",
            "563/563 [==============================] - 1s 2ms/step - loss: 0.0152 - accuracy: 0.9950\n",
            "Epoch 21/40\n",
            "563/563 [==============================] - 1s 2ms/step - loss: 0.0146 - accuracy: 0.9951\n",
            "Epoch 22/40\n",
            "563/563 [==============================] - 1s 2ms/step - loss: 0.0132 - accuracy: 0.9956\n",
            "Epoch 23/40\n",
            "563/563 [==============================] - 1s 2ms/step - loss: 0.0143 - accuracy: 0.9954\n",
            "Epoch 24/40\n",
            "563/563 [==============================] - 1s 2ms/step - loss: 0.0124 - accuracy: 0.9959\n",
            "Epoch 25/40\n",
            "563/563 [==============================] - 1s 2ms/step - loss: 0.0116 - accuracy: 0.9961\n",
            "Epoch 26/40\n",
            "563/563 [==============================] - 1s 2ms/step - loss: 0.0118 - accuracy: 0.9957\n",
            "Epoch 27/40\n",
            "563/563 [==============================] - 1s 2ms/step - loss: 0.0095 - accuracy: 0.9971\n",
            "Epoch 28/40\n",
            "563/563 [==============================] - 1s 2ms/step - loss: 0.0094 - accuracy: 0.9971\n",
            "Epoch 29/40\n",
            "563/563 [==============================] - 1s 2ms/step - loss: 0.0111 - accuracy: 0.9967\n",
            "Epoch 30/40\n",
            "563/563 [==============================] - 1s 2ms/step - loss: 0.0094 - accuracy: 0.9972\n",
            "Epoch 31/40\n",
            "563/563 [==============================] - 1s 2ms/step - loss: 0.0103 - accuracy: 0.9967\n",
            "Epoch 32/40\n",
            "563/563 [==============================] - 1s 2ms/step - loss: 0.0090 - accuracy: 0.9968\n",
            "Epoch 33/40\n",
            "563/563 [==============================] - 1s 2ms/step - loss: 0.0095 - accuracy: 0.9972\n",
            "Epoch 34/40\n",
            "563/563 [==============================] - 1s 2ms/step - loss: 0.0068 - accuracy: 0.9978\n",
            "Epoch 35/40\n",
            "563/563 [==============================] - 1s 2ms/step - loss: 0.0081 - accuracy: 0.9970\n",
            "Epoch 36/40\n",
            "563/563 [==============================] - 1s 2ms/step - loss: 0.0067 - accuracy: 0.9981\n",
            "Epoch 37/40\n",
            "563/563 [==============================] - 1s 2ms/step - loss: 0.0072 - accuracy: 0.9981\n",
            "Epoch 38/40\n",
            "563/563 [==============================] - 1s 2ms/step - loss: 0.0085 - accuracy: 0.9973\n",
            "Epoch 39/40\n",
            "563/563 [==============================] - 1s 2ms/step - loss: 0.0060 - accuracy: 0.9981\n",
            "Epoch 40/40\n",
            "563/563 [==============================] - 1s 2ms/step - loss: 0.0066 - accuracy: 0.9978\n"
          ]
        }
      ]
    },
    {
      "cell_type": "markdown",
      "source": [
        "## Вибір оптимального кроку"
      ],
      "metadata": {
        "id": "6MRiDewKxCvt"
      }
    },
    {
      "cell_type": "code",
      "source": [
        "lrs = 1e-3 * (10**(np.arange(40)/20))\n",
        "plt.figure(figsize=(10, 7))\n",
        "plt.semilogx(lrs, fit_data.history[\"loss\"])\n",
        "plt.xlabel(\"Learning Rate\")\n",
        "plt.ylabel(\"Loss\")\n",
        "plt.title(\"Finding the ideal learning rate\");"
      ],
      "metadata": {
        "colab": {
          "base_uri": "https://localhost:8080/",
          "height": 462
        },
        "id": "QFIqOYW2xDLV",
        "outputId": "db37634e-bd25-4cb4-8dfd-bff139ce7361"
      },
      "execution_count": 15,
      "outputs": [
        {
          "output_type": "display_data",
          "data": {
            "text/plain": [
              "<Figure size 720x504 with 1 Axes>"
            ],
            "image/png": "[encoded data removed]"
          },
          "metadata": {
            "needs_background": "light"
          }
        }
      ]
    },
    {
      "cell_type": "markdown",
      "source": [
        "## Confusion matrix"
      ],
      "metadata": {
        "id": "qDWonFhdw2CN"
      }
    },
    {
      "cell_type": "code",
      "source": [
        "predictions = model.predict(test_data1)\n",
        "y = []\n",
        "for data in predictions:\n",
        "  index_max = np.argmax(data)\n",
        "  y = np.append(y, index_max)\n",
        "from sklearn.metrics import confusion_matrix\n",
        "cm = confusion_matrix(test_labels1, y)\n",
        "import pandas as pd\n",
        "import seaborn as sns\n",
        "import matplotlib.pyplot as plt\n",
        "cm_df = pd.DataFrame(cm,\n",
        "                     index = ['Coat','Bag','Trouser'], \n",
        "                     columns = ['Coat','Bag','Trouser'])\n",
        "plt.figure(figsize=(5,4))\n",
        "sns.heatmap(cm_df, annot=True)\n",
        "plt.title('Confusion Matrix')\n",
        "plt.ylabel('Actal Values')\n",
        "plt.xlabel('Predicted Values')\n",
        "plt.show()\n",
        "accuracy =  (cm[0][0]+cm[1][1]+cm[2][2]) /(cm.sum())\n",
        "print('Accuracy of classification = {:0.3f}'.format(accuracy))"
      ],
      "metadata": {
        "colab": {
          "base_uri": "https://localhost:8080/",
          "height": 312
        },
        "id": "V4PBcMpDxDol",
        "outputId": "030cec9f-76f5-492d-cd5b-0fe272ac4c8e"
      },
      "execution_count": 18,
      "outputs": [
        {
          "output_type": "display_data",
          "data": {
            "text/plain": [
              "<Figure size 360x288 with 2 Axes>"
            ],
            "image/png": "[encoded data removed]"
          },
          "metadata": {
            "needs_background": "light"
          }
        },
        {
          "output_type": "stream",
          "name": "stdout",
          "text": [
            "Accuracy of classification = 0.987\n"
          ]
        }
      ]
    }
  ]
}