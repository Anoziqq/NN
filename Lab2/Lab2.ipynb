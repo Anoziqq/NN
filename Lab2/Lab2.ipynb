{
  "nbformat": 4,
  "nbformat_minor": 0,
  "metadata": {
    "colab": {
      "name": "Lab2.ipynb",
      "provenance": [],
      "collapsed_sections": [
        "mihA2UYHRwNL",
        "sr_7kDTXR1nK",
        "wTSZv66mT2FD"
      ],
      "authorship_tag": "ABX9TyMK+nFNZqLpugymx95RQCF1",
      "include_colab_link": true
    },
    "kernelspec": {
      "name": "python3",
      "display_name": "Python 3"
    },
    "language_info": {
      "name": "python"
    }
  },
  "cells": [
    {
      "cell_type": "markdown",
      "metadata": {
        "id": "view-in-github",
        "colab_type": "text"
      },
      "source": [
        "<a href=\"https://colab.research.google.com/github/Anoziqq/NN/blob/main/Lab2/Lab2.ipynb\" target=\"_parent\"><img src=\"https://colab.research.google.com/assets/colab-badge.svg\" alt=\"Open In Colab\"/></a>"
      ]
    },
    {
      "cell_type": "markdown",
      "source": [
        "#Лабораторна робота 1\n",
        "#З дисципліни \"Нейронні мережі\"\n",
        "##Виконав студент:\n",
        "###групи АнД-31\n",
        "###Лаврій Руслан"
      ],
      "metadata": {
        "id": "gf8AYfYqQ_md"
      }
    },
    {
      "cell_type": "markdown",
      "source": [
        "## Завдання\n",
        "### 1. За матеріалами [2] ознайомитись із засадами бібліотеки TensorFlow:\n",
        "### - засвоєння поняття тензору\n",
        "### - знати різні способи створення тензорів\n",
        "### - створити набір даних із заданим розподілом (розподіл та розмір за власним рішенням), визначити його властивості (shape, rank, size, axis)\n",
        "### - продемонструвати основні математичні операції над тензорами\n",
        "### - провести CRUD операції над даними, reshape, інтеграцію з np.array, pd.DataFrame)\n",
        "### 2. Відповіді оформити .ipynb документами за кожним з попередніх пунктів\n",
        "### 3. Викласти у зазначений репозіторій GitHub в окремій папці з назвою Lab2 де мають бути .ipynb файл та необхідні файли з даними\n"
      ],
      "metadata": {
        "id": "2J_rUrjqPtGk"
      }
    },
    {
      "cell_type": "markdown",
      "source": [
        "##Імпорт TensorFlow "
      ],
      "metadata": {
        "id": "mihA2UYHRwNL"
      }
    },
    {
      "cell_type": "code",
      "source": [
        "import numpy as np\n",
        "import pandas as pd \n",
        "import tensorflow as tf\n",
        "print ( tf . __version__ )"
      ],
      "metadata": {
        "colab": {
          "base_uri": "https://localhost:8080/"
        },
        "id": "JHnA8rsIRD2r",
        "outputId": "d91c9549-79bf-4c15-f636-1560f3c44844"
      },
      "execution_count": null,
      "outputs": [
        {
          "output_type": "stream",
          "name": "stdout",
          "text": [
            "2.8.2\n"
          ]
        }
      ]
    },
    {
      "cell_type": "markdown",
      "source": [
        "##Створення за допомогою tf.constant()"
      ],
      "metadata": {
        "id": "sr_7kDTXR1nK"
      }
    },
    {
      "cell_type": "code",
      "source": [
        "scalar = tf.constant(5)\n",
        "print(scalar)\n",
        "print(scalar.ndim)\n",
        "vector = tf.constant([5, 10])\n",
        "print(vector)\n",
        "print(vector.ndim)\n",
        "matrix = tf.constant([[10, 7],\n",
        "                      [7, 10]])\n",
        "print(matrix)\n",
        "print(matrix.ndim)\n",
        "tensor = tf.constant([[[1, 2, 3],\n",
        "                       [4, 5, 6]],\n",
        "                      [[7, 8, 9],\n",
        "                       [10, 11, 12]],\n",
        "                      [[13, 14, 15],\n",
        "                       [16, 17, 18]]])\n",
        "print(tensor)\n",
        "print(tensor.ndim)"
      ],
      "metadata": {
        "colab": {
          "base_uri": "https://localhost:8080/"
        },
        "id": "NIrzVpj4RGRj",
        "outputId": "cc9773f3-6646-492d-b5a1-b7ea97810c04"
      },
      "execution_count": null,
      "outputs": [
        {
          "output_type": "stream",
          "name": "stdout",
          "text": [
            "tf.Tensor(5, shape=(), dtype=int32)\n",
            "0\n",
            "tf.Tensor([ 5 10], shape=(2,), dtype=int32)\n",
            "1\n",
            "tf.Tensor(\n",
            "[[10  7]\n",
            " [ 7 10]], shape=(2, 2), dtype=int32)\n",
            "2\n",
            "tf.Tensor(\n",
            "[[[ 1  2  3]\n",
            "  [ 4  5  6]]\n",
            "\n",
            " [[ 7  8  9]\n",
            "  [10 11 12]]\n",
            "\n",
            " [[13 14 15]\n",
            "  [16 17 18]]], shape=(3, 2, 3), dtype=int32)\n",
            "3\n"
          ]
        }
      ]
    },
    {
      "cell_type": "markdown",
      "source": [
        "##Створення за допомогою tf.Variable()"
      ],
      "metadata": {
        "id": "wTSZv66mT2FD"
      }
    },
    {
      "cell_type": "code",
      "source": [
        "changeable_tensor = tf.Variable([10, 7])\n",
        "unchangeable_tensor = tf.constant([10, 7])\n",
        "print(changeable_tensor)\n",
        "print(unchangeable_tensor)"
      ],
      "metadata": {
        "colab": {
          "base_uri": "https://localhost:8080/"
        },
        "id": "rfp2iOOlRGIz",
        "outputId": "7da5b26d-12f1-4f6c-bede-e06a8419bdcc"
      },
      "execution_count": null,
      "outputs": [
        {
          "output_type": "stream",
          "name": "stdout",
          "text": [
            "<tf.Variable 'Variable:0' shape=(2,) dtype=int32, numpy=array([10,  7], dtype=int32)>\n",
            "tf.Tensor([10  7], shape=(2,), dtype=int32)\n"
          ]
        }
      ]
    },
    {
      "cell_type": "markdown",
      "source": [
        "## Створення випадкових тензорів"
      ],
      "metadata": {
        "id": "3q_BqkrkU3Cf"
      }
    },
    {
      "cell_type": "code",
      "source": [
        "random_1 = tf.random.Generator.from_seed(42)\n",
        "random_1 = random_1.normal(shape=(3, 2))\n",
        "print(random_1)"
      ],
      "metadata": {
        "colab": {
          "base_uri": "https://localhost:8080/"
        },
        "id": "E7qYyPsTUxIQ",
        "outputId": "d1433cfd-e8b6-4bbf-f7a5-8e13a2b2a282"
      },
      "execution_count": 59,
      "outputs": [
        {
          "output_type": "stream",
          "name": "stdout",
          "text": [
            "tf.Tensor(\n",
            "[[-0.7565803  -0.06854702]\n",
            " [ 0.07595026 -1.2573844 ]\n",
            " [-0.23193763 -1.8107855 ]], shape=(3, 2), dtype=float32)\n"
          ]
        }
      ]
    },
    {
      "cell_type": "markdown",
      "source": [
        "##Тензори  одиниць і нулів"
      ],
      "metadata": {
        "id": "vsHRbybcVteO"
      }
    },
    {
      "cell_type": "code",
      "source": [
        "\n",
        "print(tf.ones(shape=(3, 2)))\n",
        "print(tf.zeros(shape=(3, 2)))"
      ],
      "metadata": {
        "id": "JHynKcPzVURh",
        "colab": {
          "base_uri": "https://localhost:8080/"
        },
        "outputId": "c260afef-1a0d-42c6-e9ec-3588741cc72d"
      },
      "execution_count": null,
      "outputs": [
        {
          "output_type": "stream",
          "name": "stdout",
          "text": [
            "tf.Tensor(\n",
            "[[1. 1.]\n",
            " [1. 1.]\n",
            " [1. 1.]], shape=(3, 2), dtype=float32)\n",
            "tf.Tensor(\n",
            "[[0. 0.]\n",
            " [0. 0.]\n",
            " [0. 0.]], shape=(3, 2), dtype=float32)\n"
          ]
        }
      ]
    },
    {
      "cell_type": "markdown",
      "source": [
        "##shape, rank, size, axis"
      ],
      "metadata": {
        "id": "XZrtzLrsXXcl"
      }
    },
    {
      "cell_type": "code",
      "source": [
        "numpy_A = np.arange(1, 25, dtype=np.int32)\n",
        "tensor = tf.constant(numpy_A, shape=[2, 4, 3])\n",
        "print(tensor)\n",
        "print(\"Rank:\", tensor.ndim)\n",
        "print(\"Shape:\", tensor.shape)\n",
        "print(\"Axis:\", tensor.shape[0])\n",
        "print(\"Size:\", tf.size(tensor).numpy())"
      ],
      "metadata": {
        "colab": {
          "base_uri": "https://localhost:8080/"
        },
        "id": "JD15h3I3X3Vd",
        "outputId": "8524a919-2fdd-4f71-9736-ab00afc39084"
      },
      "execution_count": null,
      "outputs": [
        {
          "output_type": "stream",
          "name": "stdout",
          "text": [
            "tf.Tensor(\n",
            "[[[ 1  2  3]\n",
            "  [ 4  5  6]\n",
            "  [ 7  8  9]\n",
            "  [10 11 12]]\n",
            "\n",
            " [[13 14 15]\n",
            "  [16 17 18]\n",
            "  [19 20 21]\n",
            "  [22 23 24]]], shape=(2, 4, 3), dtype=int32)\n",
            "Rank: 3\n",
            "Shape: (2, 4, 3)\n",
            "Axis: 2\n",
            "Size: 24\n"
          ]
        }
      ]
    },
    {
      "cell_type": "markdown",
      "source": [
        "##Математичні операції"
      ],
      "metadata": {
        "id": "ueCFrjluX2P1"
      }
    },
    {
      "cell_type": "code",
      "source": [
        "tensor = tf.constant([[10, 7], [3, 4]])\n",
        "print(tensor+10)\n",
        "print(tensor*10)\n",
        "print(tensor-10)\n",
        "print(tensor/10)\n",
        "\n",
        "print(tf.multiply(tensor, tensor))\n",
        "print(tensor @ tensor)"
      ],
      "metadata": {
        "colab": {
          "base_uri": "https://localhost:8080/"
        },
        "id": "kXWIUhe4aQNs",
        "outputId": "daa648bd-9105-4ac5-a204-41fb7ef1e375"
      },
      "execution_count": null,
      "outputs": [
        {
          "output_type": "stream",
          "name": "stdout",
          "text": [
            "tf.Tensor(\n",
            "[[20 17]\n",
            " [13 14]], shape=(2, 2), dtype=int32)\n",
            "tf.Tensor(\n",
            "[[100  70]\n",
            " [ 30  40]], shape=(2, 2), dtype=int32)\n",
            "tf.Tensor(\n",
            "[[ 0 -3]\n",
            " [-7 -6]], shape=(2, 2), dtype=int32)\n",
            "tf.Tensor(\n",
            "[[1.  0.7]\n",
            " [0.3 0.4]], shape=(2, 2), dtype=float64)\n",
            "tf.Tensor(\n",
            "[[100  49]\n",
            " [  9  16]], shape=(2, 2), dtype=int32)\n",
            "tf.Tensor(\n",
            "[[121  98]\n",
            " [ 42  37]], shape=(2, 2), dtype=int32)\n"
          ]
        }
      ]
    },
    {
      "cell_type": "markdown",
      "source": [
        "## CRUD"
      ],
      "metadata": {
        "id": "XId9v-FhaEuj"
      }
    },
    {
      "cell_type": "code",
      "source": [
        "tensor = tf.Variable(np.arange(0, 5))\n",
        "print(tensor)\n",
        "tensor[4].assign(10)\n",
        "tensor.assign_add([10,10,10,10,10])\n",
        "print(tensor)"
      ],
      "metadata": {
        "colab": {
          "base_uri": "https://localhost:8080/"
        },
        "id": "YExMRkaGaVOb",
        "outputId": "498c8e9a-9642-49b4-a295-f962e57b4355"
      },
      "execution_count": null,
      "outputs": [
        {
          "output_type": "stream",
          "name": "stdout",
          "text": [
            "<tf.Variable 'Variable:0' shape=(5,) dtype=int64, numpy=array([0, 1, 2, 3, 4])>\n",
            "<tf.Variable 'Variable:0' shape=(5,) dtype=int64, numpy=array([10, 11, 12, 13, 20])>\n"
          ]
        }
      ]
    },
    {
      "cell_type": "markdown",
      "source": [
        "## reshape, інтеграцію з np.array, pd.DataFrame"
      ],
      "metadata": {
        "id": "oJXht0mraKsz"
      }
    },
    {
      "cell_type": "code",
      "source": [
        "tensor = tf.Variable(np.arange(0, 6))\n",
        "print(tf.reshape(tensor, shape=(2,3)))\n",
        "vector = np.array([1,2,3,4])\n",
        "print(tf.constant(vector))\n",
        "dataFrame1 = pd.DataFrame(vector)\n",
        "print(tf.convert_to_tensor(dataFrame1))\n"
      ],
      "metadata": {
        "colab": {
          "base_uri": "https://localhost:8080/"
        },
        "id": "nJGdCCZxaV8a",
        "outputId": "c4a9224f-9977-434b-c079-644abb5aab2d"
      },
      "execution_count": 58,
      "outputs": [
        {
          "output_type": "stream",
          "name": "stdout",
          "text": [
            "tf.Tensor(\n",
            "[[0 1 2]\n",
            " [3 4 5]], shape=(2, 3), dtype=int64)\n",
            "tf.Tensor([1 2 3 4], shape=(4,), dtype=int64)\n",
            "tf.Tensor(\n",
            "[[1]\n",
            " [2]\n",
            " [3]\n",
            " [4]], shape=(4, 1), dtype=int64)\n"
          ]
        }
      ]
    },
    {
      "cell_type": "code",
      "source": [
        ""
      ],
      "metadata": {
        "id": "4bzTam-0gYV4"
      },
      "execution_count": null,
      "outputs": []
    }
  ]
}